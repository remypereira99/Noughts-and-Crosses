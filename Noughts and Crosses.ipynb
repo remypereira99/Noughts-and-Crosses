{
 "cells": [
  {
   "cell_type": "code",
   "execution_count": null,
   "metadata": {},
   "outputs": [],
   "source": []
  },
  {
   "cell_type": "code",
   "execution_count": null,
   "metadata": {},
   "outputs": [],
   "source": []
  },
  {
   "cell_type": "code",
   "execution_count": null,
   "metadata": {},
   "outputs": [],
   "source": []
  },
  {
   "cell_type": "code",
   "execution_count": 3,
   "metadata": {},
   "outputs": [],
   "source": [
    "#Assigns noughts and crosses board to variable 'board'\n",
    "\n",
    "board = [' ','_',' ','_',' ','_','\\n','|','_','|','_','|','_','|','\\n','|','_','|','_','|','_','|','\\n','|','_','|','_','|','_','|']\n",
    "\n",
    "    #Board index: 8,10,12\n",
    "    #            16,18,20\n",
    "    #            24,26,28"
   ]
  },
  {
   "cell_type": "code",
   "execution_count": 4,
   "metadata": {},
   "outputs": [],
   "source": [
    "def reset_board():\n",
    "    \n",
    "    #Resets noughts and crosses board back to original\n",
    "    \n",
    "    global board\n",
    "    \n",
    "    board = [' ','_',' ','_',' ','_','\\n','|','_','|','_','|','_','|','\\n','|','_','|','_','|','_','|','\\n','|','_','|','_','|','_','|']"
   ]
  },
  {
   "cell_type": "code",
   "execution_count": 5,
   "metadata": {},
   "outputs": [],
   "source": [
    "def display():\n",
    "\n",
    "    #Displays noughts and crosses board\n",
    "    \n",
    "    print(''.join(board))    "
   ]
  },
  {
   "cell_type": "code",
   "execution_count": 6,
   "metadata": {},
   "outputs": [],
   "source": [
    "def display_label():\n",
    "    \n",
    "    #Assigns labelled noughts and crosses board to variable 'labelled_board'\n",
    "    \n",
    "    labelled_board = ''.join([' ','_',' ','_',' ','_','\\n','|','1','|','2','|','3','|','\\n','|','4','|','5','|','6','|','\\n','|','7','|','8','|','9','|'])\n",
    "    \n",
    "    #Prints 'labelled_board'\n",
    "    \n",
    "    print(labelled_board)    "
   ]
  },
  {
   "cell_type": "code",
   "execution_count": 7,
   "metadata": {},
   "outputs": [],
   "source": [
    "def xo_choice():\n",
    "    \n",
    "    #Allows players to choose to be either X or O\n",
    "    \n",
    "    print('\\nWelcome to Noughts and Crosses!\\n')\n",
    "    \n",
    "    player_choice = 'N/A'\n",
    "    \n",
    "    while player_choice not in ['O','X']:\n",
    "        \n",
    "        player_choice = input('Would you like to be X or O?').upper()\n",
    "        \n",
    "        #Displays error message if user inputs anything other than 'O' or 'X' \n",
    "        \n",
    "        if player_choice not in ['O','X']:\n",
    "            print('\\nOops! You must choose either X or O. Please try again.\\n')\n",
    "            continue\n",
    "            \n",
    "        #Sets player 1 and player 2 based on input\n",
    "        \n",
    "        if player_choice=='X':\n",
    "            print('\\nYou will be Player 1')\n",
    "            break\n",
    "            \n",
    "        if player_choice=='O':\n",
    "            print('\\nYou will be Player 2')\n",
    "            break   "
   ]
  },
  {
   "cell_type": "code",
   "execution_count": 8,
   "metadata": {},
   "outputs": [],
   "source": [
    "def player_1():\n",
    "    \n",
    "    #Function that allows player 1 to make a move\n",
    "    \n",
    "    turn = 'N/A'\n",
    "\n",
    "    while turn not in range(0,10):\n",
    "        \n",
    "        #Checks game hasn't ended\n",
    "        \n",
    "        turn = input('\\nPlayer 1, choose a number from 1-9 to place your X on: ')\n",
    "        \n",
    "        #Displays error message if user does not input integer\n",
    "        \n",
    "        try:\n",
    "            int_turn = int(turn)\n",
    "        except ValueError:\n",
    "            print('\\nInvalid move! Please try again.')\n",
    "            player_1()\n",
    "\n",
    "        \n",
    "        #Checks if input is in first row\n",
    "        \n",
    "        if int_turn in range(0,4):\n",
    "            \n",
    "            #Checks  space isn't taken\n",
    "            \n",
    "            if board[(int_turn*2)+6] in ['X','O']:\n",
    "                print('\\nPlace already taken! Please try again.\\n')\n",
    "                display()\n",
    "                player_1()\n",
    "                \n",
    "            #Places move on space\n",
    "                \n",
    "            else:\n",
    "                board[(int_turn*2)+6] = 'X'\n",
    "                display()\n",
    "                win_cond()\n",
    "                break\n",
    "            \n",
    "        elif int_turn in range(4,7):\n",
    "            if board[(int_turn*2)+8] in ['X','O']:\n",
    "                print('\\nPlace already taken! Please try again.\\n')\n",
    "                display()\n",
    "                player_1()\n",
    "            else:\n",
    "                board[(int_turn*2)+8] = 'X'\n",
    "                display()\n",
    "                win_cond()\n",
    "                break\n",
    "            \n",
    "        elif int_turn in range(7,10):\n",
    "            if board[(int_turn*2)+10] in ['X','O']:\n",
    "                print('\\nPlace already taken! Please try again.\\n')\n",
    "                display()\n",
    "                player_1()\n",
    "            else:\n",
    "                board[(int_turn*2)+10] = 'X'\n",
    "                display()\n",
    "                win_cond()\n",
    "                break\n",
    "        "
   ]
  },
  {
   "cell_type": "code",
   "execution_count": 9,
   "metadata": {},
   "outputs": [],
   "source": [
    "def player_2():\n",
    "    \n",
    "    turn = 'N/A'\n",
    "    \n",
    "    while turn not in range(0,10):\n",
    "        \n",
    "        turn = input('\\nPlayer 2, choose a number from 1-9 to place your O on: ')\n",
    "        \n",
    "        try:\n",
    "            int_turn = int(turn)\n",
    "        except ValueError:\n",
    "            print('\\nInvalid move! Please try again.')\n",
    "            player_2()\n",
    "        \n",
    "        int_turn = int(turn)\n",
    "        \n",
    "        if int_turn in range(0,4):\n",
    "            if board[(int_turn*2)+6] in ['X','O']:\n",
    "                print('\\nPlace already taken! Please try again.\\n')\n",
    "                display()\n",
    "                player_2()\n",
    "            else:\n",
    "                board[(int_turn*2)+6] = 'O'\n",
    "                display()\n",
    "                win_cond()\n",
    "                break\n",
    "            \n",
    "        elif int_turn in range(4,7):\n",
    "            if board[(int_turn*2)+8] in ['X','O']:\n",
    "                print('\\nPlace already taken! Please try again.\\n')\n",
    "                display()\n",
    "                player_2()\n",
    "            else:\n",
    "                board[(int_turn*2)+8] = 'O'\n",
    "                display()\n",
    "                win_cond()\n",
    "                break\n",
    "            \n",
    "        elif int_turn in range(7,10):\n",
    "            if board[(int_turn*2)+10] in ['X','O']:\n",
    "                print('\\nPlace already taken! Please try again.\\n')\n",
    "                display()\n",
    "                player_2()\n",
    "            else:\n",
    "                board[(int_turn*2)+10] = 'O'\n",
    "                display()\n",
    "                win_cond()\n",
    "                break\n",
    "        \n",
    "    "
   ]
  },
  {
   "cell_type": "code",
   "execution_count": 10,
   "metadata": {},
   "outputs": [],
   "source": [
    "def win_cond():\n",
    "    \n",
    "    #Function that ends the game if either player wins\n",
    "    \n",
    "    x_cnt = 0\n",
    "    o_cnt = 0\n",
    "    end_game = 0\n",
    "    \n",
    "    #Collection of each row, column, and diagonal\n",
    "    \n",
    "    row1 = [board[8],board[10],board[12]]\n",
    "    row2 = [board[16],board[18],board[20]]\n",
    "    row3 = [board[24],board[26],board[28]]\n",
    "    column1 = [board[8],board[16],board[24]]\n",
    "    column2 = [board[10],board[18],board[26]]\n",
    "    column3 = [board[12],board[20],board[28]]\n",
    "    diagonal1 = [board[8],board[18],board[28]]\n",
    "    diagonal2 = [board[12],board[18],board[24]]\n",
    "    \n",
    "    #List of all possible triplets\n",
    "    \n",
    "    all_poss = [row1,row2,row3,column1,column2,column3,diagonal1,diagonal2]\n",
    "    \n",
    "    rows = [board[8],board[10],board[12],board[16],board[18],board[20],board[24],board[26],board[28]]\n",
    "    \n",
    "    #Ends game if there are three X's or three O's in any triplet\n",
    "    \n",
    "    for lst in all_poss:\n",
    "        if lst.count('X')==3:\n",
    "            end_game=1\n",
    "            print('\\nCongratulations, Player 1 wins!'.upper())\n",
    "            play_again()\n",
    "        elif lst.count('O')==3:\n",
    "            end_game=1\n",
    "            print('\\nCongratulations, Player 2 wins!'.upper())\n",
    "            play_again()\n",
    "            \n",
    "    if rows.count('_')==0:\n",
    "        print(\"\\nIt's a draw!\")\n",
    "        play_again()\n",
    "    \n",
    "    if end_game==0:\n",
    "        if rows.count('_')>0:\n",
    "            for row in rows:\n",
    "                if 'X' in row:\n",
    "                    x_cnt+=1\n",
    "                if 'O' in row:\n",
    "                    o_cnt+=1\n",
    "            if x_cnt>o_cnt:\n",
    "                player_2()\n",
    "            elif x_cnt==o_cnt:\n",
    "                player_1()\n",
    "             "
   ]
  },
  {
   "cell_type": "code",
   "execution_count": 11,
   "metadata": {},
   "outputs": [],
   "source": [
    "def play_again():\n",
    "    \n",
    "    answer = 'N/A'\n",
    "    \n",
    "    while answer not in ['yes','no','y','n']:\n",
    "        \n",
    "        answer = input('\\nWould you like to play again?\\n').lower()\n",
    "        \n",
    "        if answer== 'yes' or answer=='y':\n",
    "            game_program()\n",
    "        \n",
    "        if answer== 'no' or answer=='n':\n",
    "            print('\\nThanks for playing!')"
   ]
  },
  {
   "cell_type": "code",
   "execution_count": 12,
   "metadata": {},
   "outputs": [],
   "source": [
    "def game_program():\n",
    "    \n",
    "    reset_board()\n",
    "    \n",
    "    xo_choice()\n",
    "    \n",
    "    display_label()\n",
    "    \n",
    "    player_1()"
   ]
  },
  {
   "cell_type": "code",
   "execution_count": 13,
   "metadata": {},
   "outputs": [
    {
     "name": "stdout",
     "output_type": "stream",
     "text": [
      "\n",
      "Welcome to Noughts and Crosses!\n",
      "\n"
     ]
    },
    {
     "name": "stdin",
     "output_type": "stream",
     "text": [
      "Would you like to be X or O? x\n"
     ]
    },
    {
     "name": "stdout",
     "output_type": "stream",
     "text": [
      "\n",
      "You will be Player 1\n",
      " _ _ _\n",
      "|1|2|3|\n",
      "|4|5|6|\n",
      "|7|8|9|\n"
     ]
    },
    {
     "name": "stdin",
     "output_type": "stream",
     "text": [
      "\n",
      "Player 1, choose a number from 1-9 to place your X on:  1\n"
     ]
    },
    {
     "name": "stdout",
     "output_type": "stream",
     "text": [
      " _ _ _\n",
      "|X|_|_|\n",
      "|_|_|_|\n",
      "|_|_|_|\n"
     ]
    },
    {
     "name": "stdin",
     "output_type": "stream",
     "text": [
      "\n",
      "Player 2, choose a number from 1-9 to place your O on:  3\n"
     ]
    },
    {
     "name": "stdout",
     "output_type": "stream",
     "text": [
      " _ _ _\n",
      "|X|_|O|\n",
      "|_|_|_|\n",
      "|_|_|_|\n"
     ]
    },
    {
     "name": "stdin",
     "output_type": "stream",
     "text": [
      "\n",
      "Player 1, choose a number from 1-9 to place your X on:  2\n"
     ]
    },
    {
     "name": "stdout",
     "output_type": "stream",
     "text": [
      " _ _ _\n",
      "|X|X|O|\n",
      "|_|_|_|\n",
      "|_|_|_|\n"
     ]
    },
    {
     "name": "stdin",
     "output_type": "stream",
     "text": [
      "\n",
      "Player 2, choose a number from 1-9 to place your O on:  4\n"
     ]
    },
    {
     "name": "stdout",
     "output_type": "stream",
     "text": [
      " _ _ _\n",
      "|X|X|O|\n",
      "|O|_|_|\n",
      "|_|_|_|\n"
     ]
    },
    {
     "name": "stdin",
     "output_type": "stream",
     "text": [
      "\n",
      "Player 1, choose a number from 1-9 to place your X on:  6\n"
     ]
    },
    {
     "name": "stdout",
     "output_type": "stream",
     "text": [
      " _ _ _\n",
      "|X|X|O|\n",
      "|O|_|X|\n",
      "|_|_|_|\n"
     ]
    },
    {
     "name": "stdin",
     "output_type": "stream",
     "text": [
      "\n",
      "Player 2, choose a number from 1-9 to place your O on:  5\n"
     ]
    },
    {
     "name": "stdout",
     "output_type": "stream",
     "text": [
      " _ _ _\n",
      "|X|X|O|\n",
      "|O|O|X|\n",
      "|_|_|_|\n"
     ]
    },
    {
     "name": "stdin",
     "output_type": "stream",
     "text": [
      "\n",
      "Player 1, choose a number from 1-9 to place your X on:  7\n"
     ]
    },
    {
     "name": "stdout",
     "output_type": "stream",
     "text": [
      " _ _ _\n",
      "|X|X|O|\n",
      "|O|O|X|\n",
      "|X|_|_|\n"
     ]
    },
    {
     "name": "stdin",
     "output_type": "stream",
     "text": [
      "\n",
      "Player 2, choose a number from 1-9 to place your O on:  8\n"
     ]
    },
    {
     "name": "stdout",
     "output_type": "stream",
     "text": [
      " _ _ _\n",
      "|X|X|O|\n",
      "|O|O|X|\n",
      "|X|O|_|\n"
     ]
    },
    {
     "name": "stdin",
     "output_type": "stream",
     "text": [
      "\n",
      "Player 1, choose a number from 1-9 to place your X on:  9\n"
     ]
    },
    {
     "name": "stdout",
     "output_type": "stream",
     "text": [
      " _ _ _\n",
      "|X|X|O|\n",
      "|O|O|X|\n",
      "|X|O|X|\n",
      "\n",
      "It's a draw!\n"
     ]
    },
    {
     "name": "stdin",
     "output_type": "stream",
     "text": [
      "\n",
      "Would you like to play again?\n",
      " n\n"
     ]
    },
    {
     "name": "stdout",
     "output_type": "stream",
     "text": [
      "\n",
      "Thanks for playing!\n"
     ]
    }
   ],
   "source": [
    "game_program()"
   ]
  },
  {
   "cell_type": "code",
   "execution_count": null,
   "metadata": {},
   "outputs": [],
   "source": []
  }
 ],
 "metadata": {
  "kernelspec": {
   "display_name": "Python 3",
   "language": "python",
   "name": "python3"
  },
  "language_info": {
   "codemirror_mode": {
    "name": "ipython",
    "version": 3
   },
   "file_extension": ".py",
   "mimetype": "text/x-python",
   "name": "python",
   "nbconvert_exporter": "python",
   "pygments_lexer": "ipython3",
   "version": "3.8.5"
  }
 },
 "nbformat": 4,
 "nbformat_minor": 4
}
